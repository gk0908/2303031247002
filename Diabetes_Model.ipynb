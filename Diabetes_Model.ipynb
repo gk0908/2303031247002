{
  "nbformat": 4,
  "nbformat_minor": 0,
  "metadata": {
    "colab": {
      "provenance": [],
      "authorship_tag": "ABX9TyP7NFzrYWs25vJVcg80WFzY",
      "include_colab_link": true
    },
    "kernelspec": {
      "name": "python3",
      "display_name": "Python 3"
    },
    "language_info": {
      "name": "python"
    }
  },
  "cells": [
    {
      "cell_type": "markdown",
      "metadata": {
        "id": "view-in-github",
        "colab_type": "text"
      },
      "source": [
        "<a href=\"https://colab.research.google.com/github/gk0908/2303031247002/blob/main/Diabetes_Model.ipynb\" target=\"_parent\"><img src=\"https://colab.research.google.com/assets/colab-badge.svg\" alt=\"Open In Colab\"/></a>"
      ]
    },
    {
      "cell_type": "code",
      "execution_count": 1,
      "metadata": {
        "colab": {
          "base_uri": "https://localhost:8080/"
        },
        "id": "6YLosJ0DZQ7f",
        "outputId": "0ceab710-b5c9-48db-f1c8-83c66f658fe7"
      },
      "outputs": [
        {
          "output_type": "stream",
          "name": "stdout",
          "text": [
            "Requirement already satisfied: pandas in /usr/local/lib/python3.12/dist-packages (2.2.2)\n",
            "Requirement already satisfied: scikit-learn in /usr/local/lib/python3.12/dist-packages (1.6.1)\n",
            "Requirement already satisfied: numpy in /usr/local/lib/python3.12/dist-packages (2.0.2)\n",
            "Requirement already satisfied: joblib in /usr/local/lib/python3.12/dist-packages (1.5.2)\n",
            "Requirement already satisfied: python-dateutil>=2.8.2 in /usr/local/lib/python3.12/dist-packages (from pandas) (2.9.0.post0)\n",
            "Requirement already satisfied: pytz>=2020.1 in /usr/local/lib/python3.12/dist-packages (from pandas) (2025.2)\n",
            "Requirement already satisfied: tzdata>=2022.7 in /usr/local/lib/python3.12/dist-packages (from pandas) (2025.2)\n",
            "Requirement already satisfied: scipy>=1.6.0 in /usr/local/lib/python3.12/dist-packages (from scikit-learn) (1.16.2)\n",
            "Requirement already satisfied: threadpoolctl>=3.1.0 in /usr/local/lib/python3.12/dist-packages (from scikit-learn) (3.6.0)\n",
            "Requirement already satisfied: six>=1.5 in /usr/local/lib/python3.12/dist-packages (from python-dateutil>=2.8.2->pandas) (1.17.0)\n",
            "✅ Packages installed & imported!\n"
          ]
        }
      ],
      "source": [
        "# Install packages\n",
        "!pip install pandas scikit-learn numpy joblib\n",
        "\n",
        "# Import libraries\n",
        "import pandas as pd\n",
        "import numpy as np\n",
        "from sklearn.model_selection import train_test_split\n",
        "from sklearn.ensemble import RandomForestClassifier\n",
        "from sklearn.linear_model import LogisticRegression\n",
        "from sklearn.metrics import accuracy_score\n",
        "import joblib\n",
        "\n",
        "print(\"✅ Packages installed & imported!\")"
      ]
    },
    {
      "cell_type": "code",
      "source": [
        "import pandas as pd\n",
        "\n",
        "df = pd.read_csv('diabetes.csv')\n",
        "\n",
        "print(\"📊 Dataset loaded!\")\n",
        "print(f\"Shape: {df.shape}\")\n",
        "print(f\"Columns: {list(df.columns)}\")\n"
      ],
      "metadata": {
        "colab": {
          "base_uri": "https://localhost:8080/"
        },
        "id": "EVRX3RYBZrau",
        "outputId": "8a862b30-205b-4959-a4b7-ed7303102975"
      },
      "execution_count": 7,
      "outputs": [
        {
          "output_type": "stream",
          "name": "stdout",
          "text": [
            "📊 Dataset loaded!\n",
            "Shape: (768, 9)\n",
            "Columns: ['Pregnancies', 'Glucose', 'BloodPressure', 'SkinThickness', 'Insulin', 'BMI', 'DiabetesPedigreeFunction', 'Age', 'Outcome']\n"
          ]
        }
      ]
    },
    {
      "cell_type": "code",
      "source": [
        "# Basic info\n",
        "print(f\"Total patients: {len(df)}\")\n",
        "print(f\"Diabetic patients: {df['Outcome'].sum()} ({(df['Outcome'].sum()/len(df))*100:.1f}%)\")\n",
        "print(\"\\nFirst 3 rows:\")\n",
        "print(df.head(3))"
      ],
      "metadata": {
        "colab": {
          "base_uri": "https://localhost:8080/"
        },
        "id": "Mulj99mGbisw",
        "outputId": "9d47ca1a-222e-4a8c-e117-08f334ab564e"
      },
      "execution_count": 8,
      "outputs": [
        {
          "output_type": "stream",
          "name": "stdout",
          "text": [
            "Total patients: 768\n",
            "Diabetic patients: 268 (34.9%)\n",
            "\n",
            "First 3 rows:\n",
            "   Pregnancies  Glucose  BloodPressure  SkinThickness  Insulin   BMI  \\\n",
            "0            6      148             72             35        0  33.6   \n",
            "1            1       85             66             29        0  26.6   \n",
            "2            8      183             64              0        0  23.3   \n",
            "\n",
            "   DiabetesPedigreeFunction  Age  Outcome  \n",
            "0                     0.627   50        1  \n",
            "1                     0.351   31        0  \n",
            "2                     0.672   32        1  \n"
          ]
        }
      ]
    },
    {
      "cell_type": "code",
      "source": [
        "# Fix zero values\n",
        "df_clean = df.copy()\n",
        "\n",
        "features_to_fix = ['Glucose', 'BloodPressure', 'SkinThickness', 'Insulin', 'BMI']\n",
        "\n",
        "for feature in features_to_fix:\n",
        "    # Replace zeros with median\n",
        "    df_clean[feature] = df_clean[feature].replace(0, np.nan)\n",
        "    df_clean[feature].fillna(df_clean[feature].median(), inplace=True)\n",
        "\n",
        "print(\"✅ Data cleaned!\")"
      ],
      "metadata": {
        "colab": {
          "base_uri": "https://localhost:8080/"
        },
        "id": "9Do_2HuLbmQT",
        "outputId": "bc3b91a6-c84c-4d88-9561-b7bad05e74be"
      },
      "execution_count": 9,
      "outputs": [
        {
          "output_type": "stream",
          "name": "stdout",
          "text": [
            "✅ Data cleaned!\n"
          ]
        },
        {
          "output_type": "stream",
          "name": "stderr",
          "text": [
            "/tmp/ipython-input-2076410988.py:9: FutureWarning: A value is trying to be set on a copy of a DataFrame or Series through chained assignment using an inplace method.\n",
            "The behavior will change in pandas 3.0. This inplace method will never work because the intermediate object on which we are setting values always behaves as a copy.\n",
            "\n",
            "For example, when doing 'df[col].method(value, inplace=True)', try using 'df.method({col: value}, inplace=True)' or df[col] = df[col].method(value) instead, to perform the operation inplace on the original object.\n",
            "\n",
            "\n",
            "  df_clean[feature].fillna(df_clean[feature].median(), inplace=True)\n"
          ]
        }
      ]
    },
    {
      "cell_type": "code",
      "source": [
        "# Split data\n",
        "X = df_clean.drop('Outcome', axis=1)\n",
        "y = df_clean['Outcome']\n",
        "\n",
        "X_train, X_test, y_train, y_test = train_test_split(X, y, test_size=0.2, random_state=42)\n",
        "\n",
        "print(f\"Training samples: {X_train.shape[0]}\")\n",
        "print(f\"Testing samples: {X_test.shape[0]}\")"
      ],
      "metadata": {
        "colab": {
          "base_uri": "https://localhost:8080/"
        },
        "id": "MerNpoFibtaX",
        "outputId": "0f3f6f15-76dd-4eb2-8d1b-66ebdfd276ae"
      },
      "execution_count": 10,
      "outputs": [
        {
          "output_type": "stream",
          "name": "stdout",
          "text": [
            "Training samples: 614\n",
            "Testing samples: 154\n"
          ]
        }
      ]
    },
    {
      "cell_type": "code",
      "source": [
        "# Train Random Forest\n",
        "print(\"🌲 Training Random Forest...\")\n",
        "rf_model = RandomForestClassifier(n_estimators=100, random_state=42)\n",
        "rf_model.fit(X_train, y_train)\n",
        "rf_accuracy = accuracy_score(y_test, rf_model.predict(X_test))\n",
        "\n",
        "# Train Logistic Regression\n",
        "print(\"📈 Training Logistic Regression...\")\n",
        "lr_model = LogisticRegression(random_state=42, max_iter=1000)\n",
        "lr_model.fit(X_train, y_train)\n",
        "lr_accuracy = accuracy_score(y_test, lr_model.predict(X_test))\n",
        "\n",
        "print(f\"\\n📊 Results:\")\n",
        "print(f\"Random Forest Accuracy: {rf_accuracy:.4f} ({rf_accuracy*100:.2f}%)\")\n",
        "print(f\"Logistic Regression Accuracy: {lr_accuracy:.4f} ({lr_accuracy*100:.2f}%)\")"
      ],
      "metadata": {
        "colab": {
          "base_uri": "https://localhost:8080/"
        },
        "id": "D2R-71jPbw8_",
        "outputId": "d0224192-a678-4605-afd9-2a2227e1db07"
      },
      "execution_count": 11,
      "outputs": [
        {
          "output_type": "stream",
          "name": "stdout",
          "text": [
            "🌲 Training Random Forest...\n",
            "📈 Training Logistic Regression...\n",
            "\n",
            "📊 Results:\n",
            "Random Forest Accuracy: 0.7468 (74.68%)\n",
            "Logistic Regression Accuracy: 0.7532 (75.32%)\n"
          ]
        }
      ]
    },
    {
      "cell_type": "code",
      "source": [
        "# Choose best model\n",
        "if rf_accuracy >= lr_accuracy:\n",
        "    joblib.dump(rf_model, 'diabetes_model.pkl')\n",
        "    best_model_name = \"Random Forest\"\n",
        "    best_accuracy = rf_accuracy\n",
        "else:\n",
        "    joblib.dump(lr_model, 'diabetes_model.pkl')\n",
        "    best_model_name = \"Logistic Regression\"\n",
        "    best_accuracy = lr_accuracy\n",
        "\n",
        "# Save feature names\n",
        "feature_names = list(X.columns)\n",
        "joblib.dump(feature_names, 'feature_names.pkl')\n",
        "\n",
        "print(f\"\\n🏆 Best Model: {best_model_name}\")\n",
        "print(f\"💾 Saved: diabetes_model.pkl & feature_names.pkl\")"
      ],
      "metadata": {
        "colab": {
          "base_uri": "https://localhost:8080/"
        },
        "id": "GcYF3dbJb1HB",
        "outputId": "9c40b362-53dc-4cd9-e125-304bc2827515"
      },
      "execution_count": 12,
      "outputs": [
        {
          "output_type": "stream",
          "name": "stdout",
          "text": [
            "\n",
            "🏆 Best Model: Logistic Regression\n",
            "💾 Saved: diabetes_model.pkl & feature_names.pkl\n"
          ]
        }
      ]
    },
    {
      "cell_type": "code",
      "source": [
        "# Load and test\n",
        "model = joblib.load('diabetes_model.pkl')\n",
        "features = joblib.load('feature_names.pkl')\n",
        "\n",
        "# Test sample\n",
        "test_patient = {\n",
        "    'Pregnancies': 2,\n",
        "    'Glucose': 150,\n",
        "    'BloodPressure': 70,\n",
        "    'SkinThickness': 25,\n",
        "    'Insulin': 80,\n",
        "    'BMI': 28.5,\n",
        "    'DiabetesPedigreeFunction': 0.5,\n",
        "    'Age': 35\n",
        "}\n",
        "\n",
        "# Prepare input\n",
        "input_data = [test_patient[f] for f in features]\n",
        "input_array = np.array(input_data).reshape(1, -1)\n",
        "\n",
        "# Predict\n",
        "prediction = model.predict(input_array)[0]\n",
        "probability = model.predict_proba(input_array)[0]\n",
        "\n",
        "print(f\"\\n🎯 Test Prediction:\")\n",
        "print(f\"Patient: Glucose={test_patient['Glucose']}, BMI={test_patient['BMI']}, Age={test_patient['Age']}\")\n",
        "print(f\"Result: {'🟥 DIABETIC' if prediction == 1 else '🟩 NOT DIABETIC'}\")\n",
        "print(f\"Confidence: {probability[prediction]:.2%}\")"
      ],
      "metadata": {
        "colab": {
          "base_uri": "https://localhost:8080/"
        },
        "id": "SM232T5eb4rr",
        "outputId": "f21e05f6-4c03-4bda-d03d-2c1febfe34cc"
      },
      "execution_count": 13,
      "outputs": [
        {
          "output_type": "stream",
          "name": "stdout",
          "text": [
            "\n",
            "🎯 Test Prediction:\n",
            "Patient: Glucose=150, BMI=28.5, Age=35\n",
            "Result: 🟩 NOT DIABETIC\n",
            "Confidence: 53.68%\n"
          ]
        },
        {
          "output_type": "stream",
          "name": "stderr",
          "text": [
            "/usr/local/lib/python3.12/dist-packages/sklearn/utils/validation.py:2739: UserWarning: X does not have valid feature names, but LogisticRegression was fitted with feature names\n",
            "  warnings.warn(\n",
            "/usr/local/lib/python3.12/dist-packages/sklearn/utils/validation.py:2739: UserWarning: X does not have valid feature names, but LogisticRegression was fitted with feature names\n",
            "  warnings.warn(\n"
          ]
        }
      ]
    },
    {
      "cell_type": "code",
      "source": [
        "from google.colab import files\n",
        "files.download('diabetes_model.pkl')\n",
        "files.download('feature_names.pkl')\n",
        "print(\"📥 Files downloaded!\")"
      ],
      "metadata": {
        "colab": {
          "base_uri": "https://localhost:8080/",
          "height": 35
        },
        "id": "FdwrZIZ4dEAD",
        "outputId": "b8630cfe-aa90-485c-c95a-444312cc0f08"
      },
      "execution_count": 14,
      "outputs": [
        {
          "output_type": "display_data",
          "data": {
            "text/plain": [
              "<IPython.core.display.Javascript object>"
            ],
            "application/javascript": [
              "\n",
              "    async function download(id, filename, size) {\n",
              "      if (!google.colab.kernel.accessAllowed) {\n",
              "        return;\n",
              "      }\n",
              "      const div = document.createElement('div');\n",
              "      const label = document.createElement('label');\n",
              "      label.textContent = `Downloading \"${filename}\": `;\n",
              "      div.appendChild(label);\n",
              "      const progress = document.createElement('progress');\n",
              "      progress.max = size;\n",
              "      div.appendChild(progress);\n",
              "      document.body.appendChild(div);\n",
              "\n",
              "      const buffers = [];\n",
              "      let downloaded = 0;\n",
              "\n",
              "      const channel = await google.colab.kernel.comms.open(id);\n",
              "      // Send a message to notify the kernel that we're ready.\n",
              "      channel.send({})\n",
              "\n",
              "      for await (const message of channel.messages) {\n",
              "        // Send a message to notify the kernel that we're ready.\n",
              "        channel.send({})\n",
              "        if (message.buffers) {\n",
              "          for (const buffer of message.buffers) {\n",
              "            buffers.push(buffer);\n",
              "            downloaded += buffer.byteLength;\n",
              "            progress.value = downloaded;\n",
              "          }\n",
              "        }\n",
              "      }\n",
              "      const blob = new Blob(buffers, {type: 'application/binary'});\n",
              "      const a = document.createElement('a');\n",
              "      a.href = window.URL.createObjectURL(blob);\n",
              "      a.download = filename;\n",
              "      div.appendChild(a);\n",
              "      a.click();\n",
              "      div.remove();\n",
              "    }\n",
              "  "
            ]
          },
          "metadata": {}
        },
        {
          "output_type": "display_data",
          "data": {
            "text/plain": [
              "<IPython.core.display.Javascript object>"
            ],
            "application/javascript": [
              "download(\"download_519dfad0-1d16-4d26-b3b1-fc9e020db2b2\", \"diabetes_model.pkl\", 1279)"
            ]
          },
          "metadata": {}
        },
        {
          "output_type": "display_data",
          "data": {
            "text/plain": [
              "<IPython.core.display.Javascript object>"
            ],
            "application/javascript": [
              "\n",
              "    async function download(id, filename, size) {\n",
              "      if (!google.colab.kernel.accessAllowed) {\n",
              "        return;\n",
              "      }\n",
              "      const div = document.createElement('div');\n",
              "      const label = document.createElement('label');\n",
              "      label.textContent = `Downloading \"${filename}\": `;\n",
              "      div.appendChild(label);\n",
              "      const progress = document.createElement('progress');\n",
              "      progress.max = size;\n",
              "      div.appendChild(progress);\n",
              "      document.body.appendChild(div);\n",
              "\n",
              "      const buffers = [];\n",
              "      let downloaded = 0;\n",
              "\n",
              "      const channel = await google.colab.kernel.comms.open(id);\n",
              "      // Send a message to notify the kernel that we're ready.\n",
              "      channel.send({})\n",
              "\n",
              "      for await (const message of channel.messages) {\n",
              "        // Send a message to notify the kernel that we're ready.\n",
              "        channel.send({})\n",
              "        if (message.buffers) {\n",
              "          for (const buffer of message.buffers) {\n",
              "            buffers.push(buffer);\n",
              "            downloaded += buffer.byteLength;\n",
              "            progress.value = downloaded;\n",
              "          }\n",
              "        }\n",
              "      }\n",
              "      const blob = new Blob(buffers, {type: 'application/binary'});\n",
              "      const a = document.createElement('a');\n",
              "      a.href = window.URL.createObjectURL(blob);\n",
              "      a.download = filename;\n",
              "      div.appendChild(a);\n",
              "      a.click();\n",
              "      div.remove();\n",
              "    }\n",
              "  "
            ]
          },
          "metadata": {}
        },
        {
          "output_type": "display_data",
          "data": {
            "text/plain": [
              "<IPython.core.display.Javascript object>"
            ],
            "application/javascript": [
              "download(\"download_37aedeb5-f774-4f2b-921b-dfcbca619153\", \"feature_names.pkl\", 121)"
            ]
          },
          "metadata": {}
        },
        {
          "output_type": "stream",
          "name": "stdout",
          "text": [
            "📥 Files downloaded!\n"
          ]
        }
      ]
    },
    {
      "cell_type": "code",
      "source": [
        "\n",
        "\n",
        "# Step 9: Test with user input\n",
        "print(\"\\n🧪 Now testing with user input...\")\n",
        "predict_diabetes()  # Run the interactive function"
      ],
      "metadata": {
        "colab": {
          "base_uri": "https://localhost:8080/",
          "height": 218
        },
        "id": "uB89mAKZdGTr",
        "outputId": "4f15a2ec-6dcd-4807-b5cf-da354ef9e8fb"
      },
      "execution_count": 15,
      "outputs": [
        {
          "output_type": "stream",
          "name": "stdout",
          "text": [
            "\n",
            "🧪 Now testing with user input...\n"
          ]
        },
        {
          "output_type": "error",
          "ename": "NameError",
          "evalue": "name 'predict_diabetes' is not defined",
          "traceback": [
            "\u001b[0;31m---------------------------------------------------------------------------\u001b[0m",
            "\u001b[0;31mNameError\u001b[0m                                 Traceback (most recent call last)",
            "\u001b[0;32m/tmp/ipython-input-3244730448.py\u001b[0m in \u001b[0;36m<cell line: 0>\u001b[0;34m()\u001b[0m\n\u001b[1;32m      1\u001b[0m \u001b[0;31m# Step 9: Test with user input\u001b[0m\u001b[0;34m\u001b[0m\u001b[0;34m\u001b[0m\u001b[0m\n\u001b[1;32m      2\u001b[0m \u001b[0mprint\u001b[0m\u001b[0;34m(\u001b[0m\u001b[0;34m\"\\n🧪 Now testing with user input...\"\u001b[0m\u001b[0;34m)\u001b[0m\u001b[0;34m\u001b[0m\u001b[0;34m\u001b[0m\u001b[0m\n\u001b[0;32m----> 3\u001b[0;31m \u001b[0mpredict_diabetes\u001b[0m\u001b[0;34m(\u001b[0m\u001b[0;34m)\u001b[0m  \u001b[0;31m# Run the interactive function\u001b[0m\u001b[0;34m\u001b[0m\u001b[0;34m\u001b[0m\u001b[0m\n\u001b[0m",
            "\u001b[0;31mNameError\u001b[0m: name 'predict_diabetes' is not defined"
          ]
        }
      ]
    },
    {
      "cell_type": "code",
      "source": [
        "# Step 7: Define the prediction function\n",
        "def predict_diabetes():\n",
        "    print(\"🎯 Enter Patient Details:\")\n",
        "\n",
        "    # Get user input\n",
        "    pregnancies = float(input(\"Pregnancies: \"))\n",
        "    glucose = float(input(\"Glucose: \"))\n",
        "    blood_pressure = float(input(\"BloodPressure: \"))\n",
        "    skin_thickness = float(input(\"SkinThickness: \"))\n",
        "    insulin = float(input(\"Insulin: \"))\n",
        "    bmi = float(input(\"BMI: \"))\n",
        "    dpf = float(input(\"DiabetesPedigreeFunction: \"))\n",
        "    age = float(input(\"Age: \"))\n",
        "\n",
        "    # Create input array\n",
        "    patient_data = [pregnancies, glucose, blood_pressure, skin_thickness,\n",
        "                   insulin, bmi, dpf, age]\n",
        "    input_array = np.array(patient_data).reshape(1, -1)\n",
        "\n",
        "    # Predict\n",
        "    prediction = model.predict(input_array)[0]\n",
        "    probability = model.predict_proba(input_array)[0]\n",
        "\n",
        "    # Show results\n",
        "    print(f\"\\n🔍 Prediction Results:\")\n",
        "    print(f\"Risk: {'🟥 HIGH (Diabetic)' if prediction == 1 else '🟩 LOW (Not Diabetic)'}\")\n",
        "    print(f\"Confidence: {probability[prediction]:.2%}\")\n",
        "    print(f\"Probability - No Diabetes: {probability[0]:.2%}\")\n",
        "    print(f\"Probability - Diabetes: {probability[1]:.2%}\")\n",
        "\n",
        "print(\"✅ Function defined! Now you can use it.\")"
      ],
      "metadata": {
        "colab": {
          "base_uri": "https://localhost:8080/"
        },
        "id": "EVXIUUs_dkrw",
        "outputId": "3483f42a-a396-43db-8fd7-35ee09d5f29f"
      },
      "execution_count": 16,
      "outputs": [
        {
          "output_type": "stream",
          "name": "stdout",
          "text": [
            "✅ Function defined! Now you can use it.\n"
          ]
        }
      ]
    },
    {
      "cell_type": "code",
      "source": [
        "# Save the trained model and features\n",
        "joblib.dump(model, 'diabetes_model.pkl')\n",
        "joblib.dump(features, 'feature_names.pkl')\n",
        "\n",
        "print(\"💾 Model saved: diabetes_model.pkl\")\n",
        "print(\"💾 Features saved: feature_names.pkl\")"
      ],
      "metadata": {
        "colab": {
          "base_uri": "https://localhost:8080/"
        },
        "id": "JKj6YXDtdola",
        "outputId": "08d10137-d31e-4271-9ee1-5188f09df143"
      },
      "execution_count": 17,
      "outputs": [
        {
          "output_type": "stream",
          "name": "stdout",
          "text": [
            "💾 Model saved: diabetes_model.pkl\n",
            "💾 Features saved: feature_names.pkl\n"
          ]
        }
      ]
    },
    {
      "cell_type": "code",
      "source": [
        "from google.colab import files\n",
        "files.download('diabetes_model.pkl')\n",
        "files.download('feature_names.pkl')\n",
        "\n",
        "print(\"📥 Files downloaded! Ready for your Flask API.\")"
      ],
      "metadata": {
        "colab": {
          "base_uri": "https://localhost:8080/",
          "height": 35
        },
        "id": "0cBE9hJ9dr-w",
        "outputId": "266cdccd-dcf5-43cd-957e-21b7467c78dc"
      },
      "execution_count": 18,
      "outputs": [
        {
          "output_type": "display_data",
          "data": {
            "text/plain": [
              "<IPython.core.display.Javascript object>"
            ],
            "application/javascript": [
              "\n",
              "    async function download(id, filename, size) {\n",
              "      if (!google.colab.kernel.accessAllowed) {\n",
              "        return;\n",
              "      }\n",
              "      const div = document.createElement('div');\n",
              "      const label = document.createElement('label');\n",
              "      label.textContent = `Downloading \"${filename}\": `;\n",
              "      div.appendChild(label);\n",
              "      const progress = document.createElement('progress');\n",
              "      progress.max = size;\n",
              "      div.appendChild(progress);\n",
              "      document.body.appendChild(div);\n",
              "\n",
              "      const buffers = [];\n",
              "      let downloaded = 0;\n",
              "\n",
              "      const channel = await google.colab.kernel.comms.open(id);\n",
              "      // Send a message to notify the kernel that we're ready.\n",
              "      channel.send({})\n",
              "\n",
              "      for await (const message of channel.messages) {\n",
              "        // Send a message to notify the kernel that we're ready.\n",
              "        channel.send({})\n",
              "        if (message.buffers) {\n",
              "          for (const buffer of message.buffers) {\n",
              "            buffers.push(buffer);\n",
              "            downloaded += buffer.byteLength;\n",
              "            progress.value = downloaded;\n",
              "          }\n",
              "        }\n",
              "      }\n",
              "      const blob = new Blob(buffers, {type: 'application/binary'});\n",
              "      const a = document.createElement('a');\n",
              "      a.href = window.URL.createObjectURL(blob);\n",
              "      a.download = filename;\n",
              "      div.appendChild(a);\n",
              "      a.click();\n",
              "      div.remove();\n",
              "    }\n",
              "  "
            ]
          },
          "metadata": {}
        },
        {
          "output_type": "display_data",
          "data": {
            "text/plain": [
              "<IPython.core.display.Javascript object>"
            ],
            "application/javascript": [
              "download(\"download_e2727e20-4ebc-423a-b496-516cf9564da5\", \"diabetes_model.pkl\", 1279)"
            ]
          },
          "metadata": {}
        },
        {
          "output_type": "display_data",
          "data": {
            "text/plain": [
              "<IPython.core.display.Javascript object>"
            ],
            "application/javascript": [
              "\n",
              "    async function download(id, filename, size) {\n",
              "      if (!google.colab.kernel.accessAllowed) {\n",
              "        return;\n",
              "      }\n",
              "      const div = document.createElement('div');\n",
              "      const label = document.createElement('label');\n",
              "      label.textContent = `Downloading \"${filename}\": `;\n",
              "      div.appendChild(label);\n",
              "      const progress = document.createElement('progress');\n",
              "      progress.max = size;\n",
              "      div.appendChild(progress);\n",
              "      document.body.appendChild(div);\n",
              "\n",
              "      const buffers = [];\n",
              "      let downloaded = 0;\n",
              "\n",
              "      const channel = await google.colab.kernel.comms.open(id);\n",
              "      // Send a message to notify the kernel that we're ready.\n",
              "      channel.send({})\n",
              "\n",
              "      for await (const message of channel.messages) {\n",
              "        // Send a message to notify the kernel that we're ready.\n",
              "        channel.send({})\n",
              "        if (message.buffers) {\n",
              "          for (const buffer of message.buffers) {\n",
              "            buffers.push(buffer);\n",
              "            downloaded += buffer.byteLength;\n",
              "            progress.value = downloaded;\n",
              "          }\n",
              "        }\n",
              "      }\n",
              "      const blob = new Blob(buffers, {type: 'application/binary'});\n",
              "      const a = document.createElement('a');\n",
              "      a.href = window.URL.createObjectURL(blob);\n",
              "      a.download = filename;\n",
              "      div.appendChild(a);\n",
              "      a.click();\n",
              "      div.remove();\n",
              "    }\n",
              "  "
            ]
          },
          "metadata": {}
        },
        {
          "output_type": "display_data",
          "data": {
            "text/plain": [
              "<IPython.core.display.Javascript object>"
            ],
            "application/javascript": [
              "download(\"download_6502a415-b6ba-45de-a7d0-613e5a4a4632\", \"feature_names.pkl\", 121)"
            ]
          },
          "metadata": {}
        },
        {
          "output_type": "stream",
          "name": "stdout",
          "text": [
            "📥 Files downloaded! Ready for your Flask API.\n"
          ]
        }
      ]
    },
    {
      "cell_type": "code",
      "source": [
        "# Now run the function\n",
        "print(\"\\n🧪 Testing with user input...\")\n",
        "predict_diabetes()"
      ],
      "metadata": {
        "colab": {
          "base_uri": "https://localhost:8080/"
        },
        "id": "sq1WZe49dxMD",
        "outputId": "3c90d3fa-a81a-4a13-9f5a-27bf26da41d2"
      },
      "execution_count": 19,
      "outputs": [
        {
          "output_type": "stream",
          "name": "stdout",
          "text": [
            "\n",
            "🧪 Testing with user input...\n",
            "🎯 Enter Patient Details:\n",
            "Pregnancies: 0\n",
            "Glucose: 21.9\n",
            "BloodPressure: 67\n",
            "SkinThickness: 65\n",
            "Insulin: 32\n",
            "BMI: 78\n",
            "DiabetesPedigreeFunction: 0.5\n",
            "Age: 20\n",
            "\n",
            "🔍 Prediction Results:\n",
            "Risk: 🟩 LOW (Not Diabetic)\n",
            "Confidence: 52.93%\n",
            "Probability - No Diabetes: 52.93%\n",
            "Probability - Diabetes: 47.07%\n"
          ]
        },
        {
          "output_type": "stream",
          "name": "stderr",
          "text": [
            "/usr/local/lib/python3.12/dist-packages/sklearn/utils/validation.py:2739: UserWarning: X does not have valid feature names, but LogisticRegression was fitted with feature names\n",
            "  warnings.warn(\n",
            "/usr/local/lib/python3.12/dist-packages/sklearn/utils/validation.py:2739: UserWarning: X does not have valid feature names, but LogisticRegression was fitted with feature names\n",
            "  warnings.warn(\n"
          ]
        }
      ]
    }
  ]
}